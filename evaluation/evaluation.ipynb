{
 "cells": [
  {
   "cell_type": "markdown",
   "metadata": {},
   "source": [
    "# FAIR Workflows evaluation"
   ]
  },
  {
   "cell_type": "markdown",
   "metadata": {},
   "source": [
    "Thank you for agreeing to participate in the user evaluation of our FAIR Workflows approach. Below we give you first a quick introduction of how to deal with such FAIR Workflows in Python, and then we will give you two short tasks."
   ]
  },
  {
   "cell_type": "markdown",
   "metadata": {},
   "source": [
    "## Using the fairworkflows library\n",
    "The `fairworkflows` library is intended to provide a simple way to make your 'normal' python code FAIR, automatically generating a prospective provenance description of the workflow (prior to execution) and a retrospective provenance description during execution. All these semantic descriptions are in the form of RDF triples, which can be published as a series of nanopublications.\n",
    "\n",
    "## How do I use it?\n",
    "The library introduces two decorators: `is_fairstep` and `is_fairworkflow`. `is_fairstep` is used to mark functions that are 'steps' in your processing, and `is_fairworkflow` is used to mark functions which combine these steps into the overall 'workflow'.\n",
    "\n",
    "This should hopefully become clearer with an example:\n",
    "\n",
    "### 1. Import the decorators\n",
    "\n",
    "Make sure to run this line now, as otherwise you'll get errors later on during the tasks:"
   ]
  },
  {
   "cell_type": "code",
   "execution_count": 2,
   "metadata": {},
   "outputs": [],
   "source": [
    "from fairworkflows import is_fairworkflow, is_fairstep, FairStep, FairWorkflow"
   ]
  },
  {
   "cell_type": "markdown",
   "metadata": {},
   "source": [
    "### 2. Define your steps\n",
    "Each 'step' should be in a function. The arguments to the function should ideally have type hinting. You must mark the function using the is_fairstep decorator, and provide a 'label' - a string that gives a more verbose title to the step."
   ]
  },
  {
   "cell_type": "code",
   "execution_count": 3,
   "metadata": {},
   "outputs": [],
   "source": [
    "@is_fairstep(label='Add two numbers together')\n",
    "def add(a:float, b:float) -> float:\n",
    "    return a + b"
   ]
  },
  {
   "cell_type": "code",
   "execution_count": 4,
   "metadata": {},
   "outputs": [],
   "source": [
    "@is_fairstep(label='Subtract two numbers')\n",
    "def sub(a: float, b: float) -> float:\n",
    "    return a - b"
   ]
  },
  {
   "cell_type": "code",
   "execution_count": 5,
   "metadata": {},
   "outputs": [],
   "source": [
    "@is_fairstep(label='Multiply two numbers together')\n",
    "def mul(a: float, b: float) -> float:\n",
    "    return a * b"
   ]
  },
  {
   "cell_type": "code",
   "execution_count": 6,
   "metadata": {},
   "outputs": [],
   "source": [
    "@is_fairstep(label='A mathematical operation')\n",
    "def weird(a: float, b:float) -> float:\n",
    "    return a * 2 + b * 4"
   ]
  },
  {
   "cell_type": "markdown",
   "metadata": {},
   "source": [
    "### Define your workflow using @fairworkflow\n",
    "Now write a function which describes your workflow. Mark this function with the @is_fairworkflow decorator."
   ]
  },
  {
   "cell_type": "code",
   "execution_count": 7,
   "metadata": {},
   "outputs": [],
   "source": [
    "@is_fairworkflow(label='A simple addition, subtraction, multiplication workflow')\n",
    "def my_workflow(in1, in2, in3):\n",
    "    t1 = add(in1, in2)\n",
    "    t2 = sub(in1, in2)\n",
    "    t3 = mul(weird(t1, in3), t2)\n",
    "    return t3"
   ]
  },
  {
   "cell_type": "markdown",
   "metadata": {},
   "source": [
    "## Create an instance of your workflow and display it\n",
    "Now that you have marked your steps and workflow, you are ready to create a FAIR workflow from it:"
   ]
  },
  {
   "cell_type": "code",
   "execution_count": 8,
   "metadata": {},
   "outputs": [],
   "source": [
    "fw = FairWorkflow.from_function(my_workflow)"
   ]
  },
  {
   "cell_type": "markdown",
   "metadata": {},
   "source": [
    "You can optionally display this workflow object graphically, using its `display()` method:"
   ]
  },
  {
   "cell_type": "code",
   "execution_count": 9,
   "metadata": {},
   "outputs": [
    {
     "data": {
      "image/svg+xml": [
       "<svg xmlns=\"http://www.w3.org/2000/svg\" xmlns:xlink=\"http://www.w3.org/1999/xlink\" width=\"142pt\" height=\"218pt\" viewBox=\"0.00 0.00 141.55 218.00\">\n",
       "<g id=\"graph0\" class=\"graph\" transform=\"scale(1 1) rotate(0) translate(4 214)\">\n",
       "<title>%3</title>\n",
       "<!-- 140355814768992 -->\n",
       "<g id=\"node1\" class=\"node\">\n",
       "<title>140355814768992</title>\n",
       "<ellipse fill=\"none\" stroke=\"black\" cx=\"68.55\" cy=\"-18\" rx=\"27\" ry=\"18\"/>\n",
       "<text text-anchor=\"middle\" x=\"68.55\" y=\"-14.3\" font-family=\"Times,serif\" font-size=\"14.00\">mul</text>\n",
       "</g>\n",
       "<!-- 140355814768704 -->\n",
       "<g id=\"node2\" class=\"node\">\n",
       "<title>140355814768704</title>\n",
       "<ellipse fill=\"none\" stroke=\"black\" cx=\"30.55\" cy=\"-105\" rx=\"30.59\" ry=\"18\"/>\n",
       "<text text-anchor=\"middle\" x=\"30.55\" y=\"-101.3\" font-family=\"Times,serif\" font-size=\"14.00\">weird</text>\n",
       "</g>\n",
       "<!-- 140355814768704&#45;&gt;140355814768992 -->\n",
       "<g id=\"edge1\" class=\"edge\">\n",
       "<title>140355814768704-&gt;140355814768992</title>\n",
       "<path fill=\"none\" stroke=\"black\" d=\"M38.05,-87.21C43.45,-75.14 50.83,-58.64 56.97,-44.89\"/>\n",
       "<polygon fill=\"black\" stroke=\"black\" points=\"60.3,-46.03 61.18,-35.47 53.91,-43.17 60.3,-46.03\"/>\n",
       "<text text-anchor=\"middle\" x=\"56.05\" y=\"-57.8\" font-family=\"Times,serif\" font-size=\"14.00\">a</text>\n",
       "</g>\n",
       "<!-- 140355814727536 -->\n",
       "<g id=\"node3\" class=\"node\">\n",
       "<title>140355814727536</title>\n",
       "<ellipse fill=\"none\" stroke=\"black\" cx=\"30.55\" cy=\"-192\" rx=\"27\" ry=\"18\"/>\n",
       "<text text-anchor=\"middle\" x=\"30.55\" y=\"-188.3\" font-family=\"Times,serif\" font-size=\"14.00\">add</text>\n",
       "</g>\n",
       "<!-- 140355814727536&#45;&gt;140355814768704 -->\n",
       "<g id=\"edge2\" class=\"edge\">\n",
       "<title>140355814727536-&gt;140355814768704</title>\n",
       "<path fill=\"none\" stroke=\"black\" d=\"M30.55,-173.8C30.55,-162.16 30.55,-146.55 30.55,-133.24\"/>\n",
       "<polygon fill=\"black\" stroke=\"black\" points=\"34.05,-133.18 30.55,-123.18 27.05,-133.18 34.05,-133.18\"/>\n",
       "<text text-anchor=\"middle\" x=\"34.05\" y=\"-144.8\" font-family=\"Times,serif\" font-size=\"14.00\">a</text>\n",
       "</g>\n",
       "<!-- 140355814724944 -->\n",
       "<g id=\"node4\" class=\"node\">\n",
       "<title>140355814724944</title>\n",
       "<ellipse fill=\"none\" stroke=\"black\" cx=\"106.55\" cy=\"-105\" rx=\"27\" ry=\"18\"/>\n",
       "<text text-anchor=\"middle\" x=\"106.55\" y=\"-101.3\" font-family=\"Times,serif\" font-size=\"14.00\">sub</text>\n",
       "</g>\n",
       "<!-- 140355814724944&#45;&gt;140355814768992 -->\n",
       "<g id=\"edge3\" class=\"edge\">\n",
       "<title>140355814724944-&gt;140355814768992</title>\n",
       "<path fill=\"none\" stroke=\"black\" d=\"M99.22,-87.61C93.81,-75.5 86.33,-58.77 80.11,-44.86\"/>\n",
       "<polygon fill=\"black\" stroke=\"black\" points=\"83.13,-43.04 75.85,-35.34 76.74,-45.9 83.13,-43.04\"/>\n",
       "<text text-anchor=\"middle\" x=\"93.05\" y=\"-57.8\" font-family=\"Times,serif\" font-size=\"14.00\">b</text>\n",
       "</g>\n",
       "</g>\n",
       "</svg>"
      ],
      "text/plain": [
       "<IPython.core.display.SVG object>"
      ]
     },
     "metadata": {},
     "output_type": "display_data"
    }
   ],
   "source": [
    "fw.display()"
   ]
  },
  {
   "cell_type": "markdown",
   "metadata": {},
   "source": [
    "## Execute your workflow using .execute()\n",
    "You can now execute your workflow. This workflow took three input parameters, so we must provide these are arguments to its `execute()` method."
   ]
  },
  {
   "cell_type": "code",
   "execution_count": 25,
   "metadata": {},
   "outputs": [
    {
     "data": {
      "text/plain": [
       "-66"
      ]
     },
     "execution_count": 25,
     "metadata": {},
     "output_type": "execute_result"
    }
   ],
   "source": [
    "result, prov = fw.execute(1, 4, 3)\n",
    "result"
   ]
  },
  {
   "cell_type": "markdown",
   "metadata": {},
   "source": [
    "### Using FAIRWorkflows Jupyter Lab extension\n",
    "You should see a tab in the far left sidebar of this window called 'FAIRWorkflows'. Click on this tab and the extension widget should open on the left. It will look something like this:\n",
    "\n",
    "![image.png](introimg/fairworkflows_widget.png)\n",
    "\n",
    "You can search for existing steps using text in the search bar. Results will appear below, as you type. Clicking on a result will inject that step's description into the notebook, into a new cell beneath the currently selected one. Ensure that 'raw' is selected as the `Inject` option:\n",
    "\n",
    "![image.png](introimg/inject.png)"
   ]
  },
  {
   "cell_type": "markdown",
   "metadata": {},
   "source": [
    "Try typing \"rotate\" into the Search field. After a brief moment, some search results should appear. Click on one and it will fetch the step from that nanopublication and inject it into this notebook. Please check that you have selected the notebook cell below this one, so that it is injected there."
   ]
  },
  {
   "cell_type": "code",
   "execution_count": null,
   "metadata": {},
   "outputs": [],
   "source": [
    "# Select this cell before clicking on the search result. The code should then be injected into the cell beneath this one."
   ]
  },
  {
   "cell_type": "markdown",
   "metadata": {},
   "source": [
    "If you successfully load a step it will look like this:"
   ]
  },
  {
   "cell_type": "code",
   "execution_count": null,
   "metadata": {
    "collapsed": false,
    "jupyter": {
     "outputs_hidden": false
    },
    "nanopubURI": "http://purl.org/np/RAhktiJRIPegCgGhGRI4BgBVMfGRf7_6lOIf4em7sCPpw",
    "tags": [
     "Injected by FAIR Workflows Widget"
    ]
   },
   "outputs": [],
   "source": [
    "@is_fairstep(label='Rotating an image represented by 90 degrees')\n",
    "def rotate_image(img):\n",
    "    from PIL import Image\n",
    "    return img.transpose(Image.ROTATE_90)\n",
    "\n",
    "\n",
    "rotate_image._fairstep.derived_from='http://purl.org/np/RAhktiJRIPegCgGhGRI4BgBVMfGRf7_6lOIf4em7sCPpw'\n"
   ]
  },
  {
   "cell_type": "markdown",
   "metadata": {},
   "source": [
    "After running the loaded cell, you can use the loaded function (`rotate_image` in this case) as a normal function in your code when you define a workflow."
   ]
  },
  {
   "cell_type": "markdown",
   "metadata": {},
   "source": [
    "You have finished the tutorial section and may move on to the short tasks below. If you are having difficulties then please don't hesitate to contact the evaluation organisers."
   ]
  },
  {
   "cell_type": "markdown",
   "metadata": {},
   "source": [
    "# Task 1"
   ]
  },
  {
   "cell_type": "markdown",
   "metadata": {},
   "source": [
    "Create a workflow from exisiting steps that converts an image to a pencil sketch. This is an example input and output:"
   ]
  },
  {
   "cell_type": "markdown",
   "metadata": {},
   "source": [
    "**Input:** ![input image 1](img/puppy.png) **Output:** ![input image 2](example/puppy-output.png)"
   ]
  },
  {
   "cell_type": "markdown",
   "metadata": {},
   "source": [
    "This workflow can be implemented with the following steps:\n",
    "\n",
    "1. Convert the RGB color image to grayscale.\n",
    "2. Invert the grayscale image to get a negative.\n",
    "3. Apply a Gaussian blur to the negative from step 2.\n",
    "4. Blend the grayscale image from step 1 with the blurred negative from step 3.\n",
    "5. Adjust the constrast of the final image"
   ]
  },
  {
   "cell_type": "markdown",
   "metadata": {},
   "source": [
    "Load the needed steps below and then define your workflow function:"
   ]
  },
  {
   "cell_type": "code",
   "execution_count": 2,
   "metadata": {},
   "outputs": [],
   "source": [
    "# TASK: Load the steps here"
   ]
  },
  {
   "cell_type": "code",
   "execution_count": null,
   "metadata": {},
   "outputs": [],
   "source": [
    "# TASK: define your workflow function here"
   ]
  },
  {
   "cell_type": "markdown",
   "metadata": {},
   "source": [
    "To test your workflow, run it on the following example:"
   ]
  },
  {
   "cell_type": "markdown",
   "metadata": {},
   "source": [
    "**Input:** ![input image 1](img/mountains.png) **Output:** ?"
   ]
  },
  {
   "cell_type": "code",
   "execution_count": 10,
   "metadata": {},
   "outputs": [],
   "source": [
    "from PIL import Image\n",
    "inputImg1 = Image.open(\"img/mountains.png\")"
   ]
  },
  {
   "cell_type": "code",
   "execution_count": null,
   "metadata": {},
   "outputs": [],
   "source": [
    "# TASK: run here your workflow with the image above as input"
   ]
  },
  {
   "cell_type": "markdown",
   "metadata": {},
   "source": [
    "If you get error messages or the result doesn't match the expectations, try to improve your code to resolve them."
   ]
  },
  {
   "cell_type": "markdown",
   "metadata": {},
   "source": [
    "# Task 2"
   ]
  },
  {
   "cell_type": "markdown",
   "metadata": {},
   "source": [
    "As a second task, you should create a new workflow using only steps that already exist. This workflow is about image processing. Concrete the workflow to be created should take two input images, and produce a combined output image in the way illustrated by these two examples:"
   ]
  },
  {
   "cell_type": "markdown",
   "metadata": {},
   "source": [
    "**Input:** ![input image 1](img/gras.png) ![input image 2](img/parrot.png) **Output:** ![input image 1](example/output1.png)\n",
    "\n",
    "**Input:** ![input image 1](img/city.png) ![input image 2](img/dog.png) **Output:** ![input image 1](example/output3.png)"
   ]
  },
  {
   "cell_type": "markdown",
   "metadata": {},
   "source": [
    "To start, you can here load the steps you think you are going to need by using the FAIRWorkflows sidebar (as explained above). You can type a search keyword like \"image\" to search for steps that have that word in their label."
   ]
  },
  {
   "cell_type": "code",
   "execution_count": 2,
   "metadata": {},
   "outputs": [],
   "source": [
    "# TASK: Load the steps here"
   ]
  },
  {
   "cell_type": "markdown",
   "metadata": {},
   "source": [
    "Next, you can define here your workflow function based on the steps you loaded above:"
   ]
  },
  {
   "cell_type": "code",
   "execution_count": null,
   "metadata": {},
   "outputs": [],
   "source": [
    "# TASK: define your workflow function here"
   ]
  },
  {
   "cell_type": "markdown",
   "metadata": {},
   "source": [
    "To test your workflow, you can run them on these two input images:"
   ]
  },
  {
   "cell_type": "markdown",
   "metadata": {},
   "source": [
    "**Input:** ![input image 1](img/mountains.png) ![input image 2](img/rose.png) **Output:** ?"
   ]
  },
  {
   "cell_type": "markdown",
   "metadata": {},
   "source": [
    "This is how you can load them in Python:"
   ]
  },
  {
   "cell_type": "code",
   "execution_count": 10,
   "metadata": {},
   "outputs": [],
   "source": [
    "from PIL import Image\n",
    "\n",
    "inputImg1 = Image.open(\"img/mountains.png\")\n",
    "inputImg2 = Image.open(\"img/rose.png\")"
   ]
  },
  {
   "cell_type": "markdown",
   "metadata": {},
   "source": [
    "And now you can try out your workflow to see whether it returns the desired output (you can use the `show()` method on an Image object to see it as an image):"
   ]
  },
  {
   "cell_type": "code",
   "execution_count": null,
   "metadata": {},
   "outputs": [],
   "source": [
    "# TASK: run here your workflow with the images above as input"
   ]
  },
  {
   "cell_type": "markdown",
   "metadata": {},
   "source": [
    "If you get error messages or the result doesn't match the expectations, try to improve your code to resolve them."
   ]
  },
  {
   "cell_type": "markdown",
   "metadata": {},
   "source": [
    "# Task 3"
   ]
  },
  {
   "cell_type": "markdown",
   "metadata": {},
   "source": [
    "In this last task, we want you to get some experience with the publishing and reusing capabilities of the framework. For this, we ask you to create your own step in the form of a toy example of an \"awesome\" step, and then combine it with other such \"awesome\" steps that others have published.\n",
    "\n",
    "Define a step that takes an input image and manipulates the image and returns the altered image.\n",
    "You might want to consult the [Pillow library documentation](https://pillow.readthedocs.io/en/stable/reference/Image.html) for that.\n",
    "You can get inspiration from the steps you have loaded above."
   ]
  },
  {
   "cell_type": "code",
   "execution_count": 3,
   "metadata": {},
   "outputs": [],
   "source": [
    "# TASK : Define your step function\n",
    "@is_fairstep(label='Put here a name of your awesome step (include the word awesome so others will find it)')\n",
    "# Give it your own name:\n",
    "def my_awesome_step(image):    \n",
    "    from PIL import Image\n",
    "    # new_image = ....\n",
    "    return new_image"
   ]
  },
  {
   "cell_type": "markdown",
   "metadata": {},
   "source": [
    "Now you can publish this step to the network, so others can load and use it:"
   ]
  },
  {
   "cell_type": "code",
   "execution_count": null,
   "metadata": {},
   "outputs": [],
   "source": [
    "# Make sure to adapt the function name to what you define above:\n",
    "my_awesome_step._fairstep.publish_as_nanopub()"
   ]
  },
  {
   "cell_type": "markdown",
   "metadata": {},
   "source": [
    "Use the sidebar to find and load at least one other \"awesome\" step published by somebody else:"
   ]
  },
  {
   "cell_type": "code",
   "execution_count": 3,
   "metadata": {},
   "outputs": [],
   "source": [
    "# TASK: Load the step here\n",
    "# TASK: Change the step function name"
   ]
  },
  {
   "cell_type": "markdown",
   "metadata": {},
   "source": [
    "Now create a new \"awesome\" toy workflow using the step you defined above and the step you imported from somebody else:"
   ]
  },
  {
   "cell_type": "code",
   "execution_count": null,
   "metadata": {},
   "outputs": [],
   "source": [
    "# TASK: Define a workflow using two awesome steps\n",
    "@is_fairworkflow(label='My awesome workflow')\n",
    "def my_awesome_workflow(im_in):\n",
    "    ## ...\n",
    "    return im_out"
   ]
  },
  {
   "cell_type": "markdown",
   "metadata": {},
   "source": [
    "To test your workflow, run it on the following example:"
   ]
  },
  {
   "cell_type": "code",
   "execution_count": null,
   "metadata": {},
   "outputs": [],
   "source": [
    "inputImg1 = Image.open(\"img/mountains.png\")"
   ]
  },
  {
   "cell_type": "code",
   "execution_count": null,
   "metadata": {},
   "outputs": [],
   "source": [
    "# TASK: run here your workflow with the image above as input"
   ]
  }
 ],
 "metadata": {
  "kernelspec": {
   "display_name": "Python 3",
   "language": "python",
   "name": "python3"
  },
  "language_info": {
   "codemirror_mode": {
    "name": "ipython",
    "version": 3
   },
   "file_extension": ".py",
   "mimetype": "text/x-python",
   "name": "python",
   "nbconvert_exporter": "python",
   "pygments_lexer": "ipython3",
   "version": "3.8.5"
  }
 },
 "nbformat": 4,
 "nbformat_minor": 4
}
