{
 "cells": [
  {
   "cell_type": "markdown",
   "metadata": {},
   "source": [
    "# FAIR Workflows evaluation"
   ]
  },
  {
   "cell_type": "markdown",
   "metadata": {},
   "source": [
    "Thank you for agreeing to participate in the user evaluation of our FAIR Workflows approach. Below we give you first a quick introduction of how to deal with such FAIR Workflows in Python, and then we will give you three short task. In the end we will ask you to fill in a brief questionnaire. Overall, this will take around 30 minutes."
   ]
  },
  {
   "cell_type": "markdown",
   "metadata": {},
   "source": [
    "## Using the fairworkflows library\n",
    "The `fairworkflows` library is intended to provide a simple way to make your 'normal' python code FAIR, automatically generating a formal description of the workflow (prior to execution) and a provenance description during execution. All these semantic descriptions are in the form of RDF triples, which can be published as a series of nanopublications.\n",
    "\n",
    "The library introduces two decorators: `is_fairstep` and `is_fairworkflow`. `is_fairstep` is used to mark functions that are 'steps' in your processing, and `is_fairworkflow` is used to mark functions which combine these steps into the overall 'workflow'.\n",
    "\n",
    "We will now walk you through the steps with the help of an example.\n",
    "\n",
    "#### Import library\n",
    "\n",
    "Make sure to run this line now, as otherwise you'll get errors later on during the tasks:"
   ]
  },
  {
   "cell_type": "code",
   "execution_count": null,
   "metadata": {},
   "outputs": [],
   "source": [
    "from fairworkflows import is_fairworkflow, is_fairstep, FairStep, FairWorkflow"
   ]
  },
  {
   "cell_type": "markdown",
   "metadata": {},
   "source": [
    "#### Define workflow steps\n",
    "Each 'step' should be in a function. The arguments to the function should ideally have type hinting. You must mark the function using the is_fairstep decorator, and provide a 'label' - a string that gives a more verbose title to the step."
   ]
  },
  {
   "cell_type": "code",
   "execution_count": null,
   "metadata": {},
   "outputs": [],
   "source": [
    "@is_fairstep(label='Add two numbers together')\n",
    "def add(a:float, b:float) -> float:\n",
    "    return a + b"
   ]
  },
  {
   "cell_type": "code",
   "execution_count": null,
   "metadata": {},
   "outputs": [],
   "source": [
    "@is_fairstep(label='Subtract two numbers')\n",
    "def sub(a: float, b: float) -> float:\n",
    "    return a - b"
   ]
  },
  {
   "cell_type": "code",
   "execution_count": null,
   "metadata": {},
   "outputs": [],
   "source": [
    "@is_fairstep(label='Multiply two numbers together')\n",
    "def mul(a: float, b: float) -> float:\n",
    "    return a * b"
   ]
  },
  {
   "cell_type": "code",
   "execution_count": null,
   "metadata": {},
   "outputs": [],
   "source": [
    "@is_fairstep(label='A mathematical operation')\n",
    "def weird(a: float, b:float) -> float:\n",
    "    return a * 2 + b * 4"
   ]
  },
  {
   "cell_type": "markdown",
   "metadata": {},
   "source": [
    "#### Define a workflow\n",
    "Now we can write a function which describes your workflow. We mark this function with the @is_fairworkflow decorator."
   ]
  },
  {
   "cell_type": "code",
   "execution_count": null,
   "metadata": {},
   "outputs": [],
   "source": [
    "@is_fairworkflow(label='A simple addition, subtraction, multiplication workflow')\n",
    "def my_workflow(in1, in2, in3):\n",
    "    t1 = add(in1, in2)\n",
    "    t2 = sub(in1, in2)\n",
    "    t3 = mul(weird(t1, in3), t2)\n",
    "    return t3"
   ]
  },
  {
   "cell_type": "markdown",
   "metadata": {},
   "source": [
    "#### Create a workflow instance\n",
    "Now that we have marked your steps and workflow, we are ready to create a FAIR workflow from it:"
   ]
  },
  {
   "cell_type": "code",
   "execution_count": null,
   "metadata": {},
   "outputs": [],
   "source": [
    "fw = FairWorkflow.from_function(my_workflow)"
   ]
  },
  {
   "cell_type": "markdown",
   "metadata": {},
   "source": [
    "We can optionally display this workflow object graphically, using its `display()` method:"
   ]
  },
  {
   "cell_type": "code",
   "execution_count": null,
   "metadata": {},
   "outputs": [],
   "source": [
    "fw.display()"
   ]
  },
  {
   "cell_type": "markdown",
   "metadata": {},
   "source": [
    "#### Execute the workflow \n",
    "You can now execute your workflow. This workflow took three input parameters, so we must provide these are arguments to its `execute()` method."
   ]
  },
  {
   "cell_type": "code",
   "execution_count": null,
   "metadata": {},
   "outputs": [],
   "source": [
    "result, prov = fw.execute(1, 4, 3)\n",
    "result"
   ]
  },
  {
   "cell_type": "markdown",
   "metadata": {},
   "source": [
    "## Using FAIRWorkflows extension\n",
    "You should see a tab in the far left sidebar of this window called 'FAIRWorkflows'. Click on this tab and the extension widget should open on the left. It will look something like this:\n",
    "\n",
    "![image.png](introimg/fairworkflows_widget.png)\n",
    "\n",
    "You can search for existing steps using text in the search bar. Results will appear below, as you type. Clicking on a result will inject that step's description into the notebook, into a new cell beneath the currently selected one. Ensure that 'raw' is selected as the `Inject` option:\n",
    "\n",
    "![image.png](introimg/inject.png)"
   ]
  },
  {
   "cell_type": "markdown",
   "metadata": {},
   "source": [
    "\n",
    "\n",
    "Try typing \"rotate\" into the Search field. After a brief moment, some search results should appear. Click on one and it will fetch the step from that nanopublication and inject it into this notebook. Please check that you have selected the notebook cell below this one, so that it is injected there."
   ]
  },
  {
   "cell_type": "code",
   "execution_count": null,
   "metadata": {},
   "outputs": [],
   "source": [
    "# Select this cell before clicking on the search result. The code should then be injected into the cell beneath this one."
   ]
  },
  {
   "cell_type": "markdown",
   "metadata": {},
   "source": [
    "If you successfully load a step it will look like this:"
   ]
  },
  {
   "cell_type": "code",
   "execution_count": null,
   "metadata": {
    "collapsed": false,
    "jupyter": {
     "outputs_hidden": false
    },
    "nanopubURI": "http://purl.org/np/RAhktiJRIPegCgGhGRI4BgBVMfGRf7_6lOIf4em7sCPpw",
    "tags": [
     "Injected by FAIR Workflows Widget"
    ]
   },
   "outputs": [],
   "source": [
    "@is_fairstep(label='Rotating an image represented by 90 degrees')\n",
    "def rotate_image(img):\n",
    "    from PIL import Image\n",
    "    return img.transpose(Image.ROTATE_90)\n",
    "\n",
    "\n",
    "rotate_image._fairstep.derived_from='http://purl.org/np/RAhktiJRIPegCgGhGRI4BgBVMfGRf7_6lOIf4em7sCPpw'\n"
   ]
  },
  {
   "cell_type": "markdown",
   "metadata": {},
   "source": [
    "After running the loaded cell, you can use the loaded function (`rotate_image` in this case) as a normal function in your code when you define a workflow."
   ]
  },
  {
   "cell_type": "markdown",
   "metadata": {},
   "source": [
    "You have finished the tutorial section and may move on to the short tasks below. If you are having difficulties then please don't hesitate to contact the evaluation organisers. **Please remember to save this notebook when you have completed the tasks.** You can do this in the 'File' menu (top left), selecting 'Save Notebook'."
   ]
  },
  {
   "cell_type": "markdown",
   "metadata": {},
   "source": [
    "# Task 1"
   ]
  },
  {
   "cell_type": "markdown",
   "metadata": {},
   "source": [
    "This an the following tasks are about image processing. The workflow steps therefore use images as inputs and produce other images as outputs.\n",
    "\n",
    "For this first task, you should create a workflow from exisiting steps that converts an image to a pencil sketch. This is an example input and output:"
   ]
  },
  {
   "cell_type": "markdown",
   "metadata": {},
   "source": [
    "**Input:** ![input image 1](img/puppy.png) **Output:** ![input image 2](example/puppy-output.png)"
   ]
  },
  {
   "cell_type": "markdown",
   "metadata": {},
   "source": [
    "This workflow can be implemented with the following steps:\n",
    "\n",
    "1. Convert the RGB color image to grayscale.\n",
    "2. Invert the grayscale image to get a negative.\n",
    "3. Apply a Gaussian blur to the negative from step 2.\n",
    "4. Blend the grayscale image from step 1 with the blurred negative from step 3.\n",
    "5. Adjust the constrast of the final image"
   ]
  },
  {
   "cell_type": "markdown",
   "metadata": {},
   "source": [
    "As a first step, you can here load the steps you think you are going to need by using the FAIRWorkflows sidebar (as explained above). You can type a search keyword like \"image\" to search for steps that have that word in their label."
   ]
  },
  {
   "cell_type": "code",
   "execution_count": null,
   "metadata": {},
   "outputs": [],
   "source": [
    "# TASK: Load the steps here"
   ]
  },
  {
   "cell_type": "markdown",
   "metadata": {},
   "source": [
    "Next, you can define here your workflow function based on the steps you loaded above:"
   ]
  },
  {
   "cell_type": "code",
   "execution_count": null,
   "metadata": {},
   "outputs": [],
   "source": [
    "# TASK: define your workflow function here"
   ]
  },
  {
   "cell_type": "markdown",
   "metadata": {},
   "source": [
    "To test your workflow, run it on the following example:"
   ]
  },
  {
   "cell_type": "markdown",
   "metadata": {},
   "source": [
    "**Input:** ![input image 1](img/mountains.png) **Output:** ?"
   ]
  },
  {
   "cell_type": "markdown",
   "metadata": {},
   "source": [
    "You can load this image in Python as follows:"
   ]
  },
  {
   "cell_type": "code",
   "execution_count": null,
   "metadata": {},
   "outputs": [],
   "source": [
    "from PIL import Image\n",
    "inputImg1 = Image.open(\"img/mountains.png\")"
   ]
  },
  {
   "cell_type": "markdown",
   "metadata": {},
   "source": [
    "And now you can try out your workflow to see whether it returns the desired output (you can use the `show()` method on an Image object to see it as an image):"
   ]
  },
  {
   "cell_type": "code",
   "execution_count": null,
   "metadata": {},
   "outputs": [],
   "source": [
    "# TASK: run here your workflow with the image above as input"
   ]
  },
  {
   "cell_type": "markdown",
   "metadata": {},
   "source": [
    "If you get error messages or the result doesn't match the expectations, try to improve your code to resolve them."
   ]
  },
  {
   "cell_type": "markdown",
   "metadata": {},
   "source": [
    "# Task 2"
   ]
  },
  {
   "cell_type": "markdown",
   "metadata": {},
   "source": [
    "As a second task, you should create a new workflow, again using only steps that already exist. The workflow to be created should take two input images, and produce a combined output image in the way illustrated by these two examples:"
   ]
  },
  {
   "cell_type": "markdown",
   "metadata": {},
   "source": [
    "**Input:** ![input image 1](img/gras.png) ![input image 2](img/parrot.png) **Output:** ![input image 1](example/output1.png)\n",
    "\n",
    "**Input:** ![input image 1](img/city.png) ![input image 2](img/dog.png) **Output:** ![input image 1](example/output3.png)"
   ]
  },
  {
   "cell_type": "markdown",
   "metadata": {},
   "source": [
    "Again, load first the steps via the sidebar, and then define your workflow function using them:"
   ]
  },
  {
   "cell_type": "code",
   "execution_count": null,
   "metadata": {},
   "outputs": [],
   "source": [
    "# TASK: Load the steps here"
   ]
  },
  {
   "cell_type": "code",
   "execution_count": null,
   "metadata": {},
   "outputs": [],
   "source": [
    "# TASK: define your workflow function here"
   ]
  },
  {
   "cell_type": "markdown",
   "metadata": {},
   "source": [
    "To test your workflow, you can run them on these two input images:"
   ]
  },
  {
   "cell_type": "markdown",
   "metadata": {},
   "source": [
    "**Input:** ![input image 1](img/mountains.png) ![input image 2](img/rose.png) **Output:** ?"
   ]
  },
  {
   "cell_type": "code",
   "execution_count": null,
   "metadata": {},
   "outputs": [],
   "source": [
    "from PIL import Image\n",
    "\n",
    "inputImg1 = Image.open(\"img/mountains.png\")\n",
    "inputImg2 = Image.open(\"img/rose.png\")"
   ]
  },
  {
   "cell_type": "markdown",
   "metadata": {},
   "source": [
    "Run your workflow here:"
   ]
  },
  {
   "cell_type": "code",
   "execution_count": null,
   "metadata": {},
   "outputs": [],
   "source": [
    "# TASK: run here your workflow with the images above as input"
   ]
  },
  {
   "cell_type": "markdown",
   "metadata": {},
   "source": [
    "Again, if you get error messages or the result doesn't match the expectations, try to improve your code to resolve them."
   ]
  },
  {
   "cell_type": "markdown",
   "metadata": {},
   "source": [
    "# Task 3"
   ]
  },
  {
   "cell_type": "markdown",
   "metadata": {},
   "source": [
    "In this last task, we want you to get some experience with creating and publishing your own step. For this, we ask you to create your own step in the form of a toy example of an \"awesome\" step, and then combine it with other such \"awesome\" steps that others have published.\n",
    "\n",
    "This \"awesome\" step should do an image manipulation different from what you have already seen above. It can be something funny and doesn't have to be useful for a particular purpose.\n",
    "\n",
    "Therefore, you should define a step that takes an input image and manipulates the image and returns the altered image.\n",
    "You might want to consult the [Pillow library documentation](https://pillow.readthedocs.io/en/stable/reference/Image.html) for that.\n",
    "You can get inspiration from the steps you have loaded above."
   ]
  },
  {
   "cell_type": "code",
   "execution_count": null,
   "metadata": {},
   "outputs": [],
   "source": [
    "# TASK : Define your step function\n",
    "@is_fairstep(label='Put here a name of your awesome step (include the word awesome so others will find it)')\n",
    "# Give it your own name:\n",
    "def my_awesome_step(image):    \n",
    "    from PIL import Image\n",
    "    # new_image = ....\n",
    "    return new_image"
   ]
  },
  {
   "cell_type": "markdown",
   "metadata": {},
   "source": [
    "Make sure you give the function your own name (rename `my_awesome_step`)."
   ]
  },
  {
   "cell_type": "markdown",
   "metadata": {},
   "source": [
    "Now you can publish this step to the network, so others can load and use it:"
   ]
  },
  {
   "cell_type": "code",
   "execution_count": null,
   "metadata": {},
   "outputs": [],
   "source": [
    "# Make sure to adapt the function name to what you define above:\n",
    "my_awesome_step._fairstep.publish_as_nanopub()"
   ]
  },
  {
   "cell_type": "markdown",
   "metadata": {},
   "source": [
    "Use the sidebar to find and load at least one other \"awesome\" step published by somebody else:"
   ]
  },
  {
   "cell_type": "code",
   "execution_count": null,
   "metadata": {},
   "outputs": [],
   "source": [
    "# TASK: Load the step(s) here"
   ]
  },
  {
   "cell_type": "markdown",
   "metadata": {},
   "source": [
    "Now create a new \"awesome\" toy workflow using the step you defined above and the step(s) you imported from somebody else:"
   ]
  },
  {
   "cell_type": "code",
   "execution_count": null,
   "metadata": {},
   "outputs": [],
   "source": [
    "# TASK: Define a workflow using two awesome steps\n",
    "@is_fairworkflow(label='My awesome workflow')\n",
    "def my_awesome_workflow(im_in):\n",
    "    ## ...\n",
    "    return im_out"
   ]
  },
  {
   "cell_type": "markdown",
   "metadata": {},
   "source": [
    "To test your workflow, run it on the following example:"
   ]
  },
  {
   "cell_type": "code",
   "execution_count": null,
   "metadata": {},
   "outputs": [],
   "source": [
    "inputImg1 = Image.open(\"img/mountains.png\")"
   ]
  },
  {
   "cell_type": "code",
   "execution_count": null,
   "metadata": {},
   "outputs": [],
   "source": [
    "# TASK: run here your workflow with the image above as input"
   ]
  },
  {
   "cell_type": "markdown",
   "metadata": {},
   "source": [
    "## Save this notebook before continuing!\n",
    "\n",
    "You can do this using the 'File' drop down menu (top left), and selecting 'Save Notebook'."
   ]
  },
  {
   "cell_type": "markdown",
   "metadata": {},
   "source": [
    "## Questionnaire\n",
    "\n",
    "Once you have completed the tasks above (and saved this notebook), we ask you as a final step to fill in this questionnaire:\n",
    "\n",
    "- [FAIR Workflows Evaluation Questionnaire](https://forms.gle/vDt7xTF8cDgm9YcX6)\n",
    "\n",
    "Thank you for your participation in this study!"
   ]
  }
 ],
 "metadata": {
  "kernelspec": {
   "display_name": "Python 3",
   "language": "python",
   "name": "python3"
  },
  "language_info": {
   "codemirror_mode": {
    "name": "ipython",
    "version": 3
   },
   "file_extension": ".py",
   "mimetype": "text/x-python",
   "name": "python",
   "nbconvert_exporter": "python",
   "pygments_lexer": "ipython3",
   "version": "3.7.9"
  }
 },
 "nbformat": 4,
 "nbformat_minor": 4
}
