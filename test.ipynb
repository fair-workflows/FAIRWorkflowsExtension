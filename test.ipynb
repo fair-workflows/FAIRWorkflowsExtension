{
 "cells": [
  {
   "cell_type": "code",
   "execution_count": 1,
   "metadata": {},
   "outputs": [],
   "source": [
    "import fairworkflows as fair\n",
    "from fairworkflows import Nanopub, Workflowhub"
   ]
  },
  {
   "cell_type": "code",
   "execution_count": 2,
   "metadata": {},
   "outputs": [],
   "source": [
    "np = Nanopub.fetch('http://purl.org/np/RA1q1I6-EtcuWMVsCZECCASXoiWt61VMOgDJ9JSCP4UGU')"
   ]
  },
  {
   "cell_type": "code",
   "execution_count": 3,
   "metadata": {},
   "outputs": [
    {
     "name": "stdout",
     "output_type": "stream",
     "text": [
      "Source URI = http://purl.org/np/RA1q1I6-EtcuWMVsCZECCASXoiWt61VMOgDJ9JSCP4UGU\n",
      "@prefix this: <http://purl.org/np/RA1q1I6-EtcuWMVsCZECCASXoiWt61VMOgDJ9JSCP4UGU> .\n",
      "@prefix sub: <http://purl.org/np/RA1q1I6-EtcuWMVsCZECCASXoiWt61VMOgDJ9JSCP4UGU#> .\n",
      "@prefix xsd: <http://www.w3.org/2001/XMLSchema#> .\n",
      "@prefix rdfs: <http://www.w3.org/2000/01/rdf-schema#> .\n",
      "@prefix dct: <http://purl.org/dc/terms/> .\n",
      "@prefix prov: <http://www.w3.org/ns/prov#> .\n",
      "@prefix np: <http://www.nanopub.org/nschema#> .\n",
      "@prefix orcid: <https://orcid.org/> .\n",
      "@prefix nt: <https://w3id.org/np/o/ntemplate/> .\n",
      "@prefix fabio: <http://purl.org/spar/fabio/> .\n",
      "@prefix pav: <http://purl.org/pav/> .\n",
      "@prefix npx: <http://purl.org/nanopub/x/> .\n",
      "\n",
      "sub:Head {\n",
      "  this: np:hasAssertion sub:assertion;\n",
      "    np:hasProvenance sub:provenance;\n",
      "    np:hasPublicationInfo sub:pubinfo;\n",
      "    a np:Nanopublication .\n",
      "}\n",
      "\n",
      "sub:assertion {\n",
      "  sub:local dct:creator \"American Foundation for Suicide Prevention\";\n",
      "    dct:date \"2018\";\n",
      "    dct:identifier <https://afsp.org/our-work/education/healthcare-professional-burnout-depression-suicide-prevention/>;\n",
      "    dct:title \"Facts about physician depression and suicide\";\n",
      "    dct:type fabio:WebSite;\n",
      "    pav:sourceAccessedOn \"10-12-2018\";\n",
      "    rdfs:comment \"No apparent claim of annual physician suicide rate\" .\n",
      "}\n",
      "\n",
      "sub:provenance {\n",
      "  sub:assertion prov:wasAttributedTo orcid:0000-0002-6007-4023 .\n",
      "}\n",
      "\n",
      "sub:pubinfo {\n",
      "  sub:sig npx:hasAlgorithm \"RSA\";\n",
      "    npx:hasPublicKey \"MIGfMA0GCSqGSIb3DQEBAQUAA4GNADCBiQKBgQCk/t11RFdsK8IUlbD7CznUrl1IYZtmFhTuGCtzFASFh3p0KsIDEAJtmYJ0CRWUlolT9XPht31Rh0iKGsJpr1PP1H/bcnV0ogspLq5JQj7LNoldB28Mz0/TDGN/YUYVvJjomkEEXHFnKR5vPRYb8gTMifFaTWYYv6JIYVPWJJ+4YwIDAQAB\";\n",
      "    npx:hasSignature \"J4O8ZuTPef91nZXfyQFgft0eMjIb3snwt0sV+PlDKXGxa9Ac3fzWYJEi08s44c9GpRdocCL7lqufHt4cuW30Xy0dBzQQtJKclFpnWjz1prjz9bKs/VdMlXxdrwBJjcwvPADPZA4wwkN8nBfEs5W3jPT6B75nQoPUKu/OoDqDuUI=\";\n",
      "    npx:hasSignatureTarget this: .\n",
      "  \n",
      "  this: dct:created \"2020-04-29T23:31:53.264+02:00\"^^xsd:dateTime;\n",
      "    dct:creator orcid:0000-0002-6007-4023;\n",
      "    nt:wasCreatedFromTemplate <http://purl.org/np/RAqWlNPJt3Eb4HkmPCpjaiRHGCzKIZag6cBNMkG8nxu6I> .\n",
      "}\n",
      "\n"
     ]
    }
   ],
   "source": [
    "print(np)"
   ]
  },
  {
   "cell_type": "code",
   "execution_count": null,
   "metadata": {},
   "outputs": [],
   "source": [
    "Nanopub.claim('Jupyter lab')"
   ]
  }
 ],
 "metadata": {
  "kernelspec": {
   "display_name": "Python 3",
   "language": "python",
   "name": "python3"
  },
  "language_info": {
   "codemirror_mode": {
    "name": "ipython",
    "version": 3
   },
   "file_extension": ".py",
   "mimetype": "text/x-python",
   "name": "python",
   "nbconvert_exporter": "python",
   "pygments_lexer": "ipython3",
   "version": "3.7.7"
  }
 },
 "nbformat": 4,
 "nbformat_minor": 4
}
