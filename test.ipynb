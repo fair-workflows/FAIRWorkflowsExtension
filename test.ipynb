{
 "cells": [
  {
   "cell_type": "code",
   "execution_count": 1,
   "metadata": {},
   "outputs": [],
   "source": [
    "import fairworkflows as fair\n",
    "from fairworkflows import Nanopub, Workflowhub"
   ]
  },
  {
   "cell_type": "code",
   "execution_count": 3,
   "metadata": {
    "collapsed": false,
    "jupyter": {
     "outputs_hidden": false
    },
    "tags": [
     "Injected by FAIR Workflows Widget"
    ]
   },
   "outputs": [
    {
     "name": "stdout",
     "output_type": "stream",
     "text": [
      "Source URI = http://purl.org/np/RAdDKjIGPt_2mE9oJtB3YQX6wGGdCC8ZWpkxEIoHsxOjE\n",
      "@prefix this: <http://purl.org/np/RAdDKjIGPt_2mE9oJtB3YQX6wGGdCC8ZWpkxEIoHsxOjE> .\n",
      "@prefix sub: <http://purl.org/np/RAdDKjIGPt_2mE9oJtB3YQX6wGGdCC8ZWpkxEIoHsxOjE#> .\n",
      "@prefix xsd: <http://www.w3.org/2001/XMLSchema#> .\n",
      "@prefix rdfs: <http://www.w3.org/2000/01/rdf-schema#> .\n",
      "@prefix dct: <http://purl.org/dc/terms/> .\n",
      "@prefix prov: <http://www.w3.org/ns/prov#> .\n",
      "@prefix np: <http://www.nanopub.org/nschema#> .\n",
      "@prefix orcid: <https://orcid.org/> .\n",
      "@prefix nt: <https://w3id.org/np/o/ntemplate/> .\n",
      "@prefix icc: <https://w3id.org/fair/icc/terms/> .\n",
      "@prefix npx: <http://purl.org/nanopub/x/> .\n",
      "\n",
      "sub:Head {\n",
      "  this: np:hasAssertion sub:assertion;\n",
      "    np:hasProvenance sub:provenance;\n",
      "    np:hasPublicationInfo sub:pubinfo;\n",
      "    a np:Nanopublication .\n",
      "}\n",
      "\n",
      "sub:assertion {\n",
      "  sub:community a icc:Community;\n",
      "    rdfs:comment \"The primary objective of the VODAN Implementation Network is to showcase the creation and deployment of FAIR data related to COVID-19\";\n",
      "    rdfs:label \"Virus Outbreak Data Network (VODAN) Implementation Network\";\n",
      "    rdfs:seeAlso <https://www.go-fair.org/implementation-networks/overview/vodan/> .\n",
      "}\n",
      "\n",
      "sub:provenance {\n",
      "  sub:assertion prov:wasAttributedTo orcid:0000-0002-4182-7560 .\n",
      "}\n",
      "\n",
      "sub:pubinfo {\n",
      "  sub:sig npx:hasAlgorithm \"RSA\";\n",
      "    npx:hasPublicKey \"MIGfMA0GCSqGSIb3DQEBAQUAA4GNADCBiQKBgQDHYa4Qlb25/9DnqivTh2kxQMVpFQ0r/cXtOgDQM5dWNrGQVG9RVlXnyt9qowP+k+4bhzcHPQkYWd7YVFBXBFrEnBIReUuRLElYhFrn9jf7w2+YWN8WxKIyBaNZVtgjZpHwGrZOaLOIsl02kEK1G2Qc3FXYCZFWuRJDcafe58eRNQIDAQAB\";\n",
      "    npx:hasSignature \"aCUYgYKXkdnKcELn8aKgupTVAPUvpuAO5ZcfFSXLQ5V1KX03cMK4cBA5BKATUwiv2or9SN3b0s1rbxf10xhGccCFMkGf9Mlp1BqND50ep3GcDLzTUKqGkv9mblMPoWAkPgyPXkWa/viEqFILFA6T0GKscJ785wfXS7OtAm8dyqg=\";\n",
      "    npx:hasSignatureTarget this: .\n",
      "  \n",
      "  this: dct:created \"2020-05-01T10:05:25.575+02:00\"^^xsd:dateTime;\n",
      "    dct:creator orcid:0000-0002-4182-7560;\n",
      "    nt:wasCreatedFromTemplate <http://purl.org/np/RAtpy2wjYJtUUFDHB_qpSiqNR5ALN9dGHDwS97CWfuVe0> .\n",
      "}\n",
      "\n"
     ]
    }
   ],
   "source": [
    "np = Nanopub.fetch('http://purl.org/np/RAdDKjIGPt_2mE9oJtB3YQX6wGGdCC8ZWpkxEIoHsxOjE')\n",
    "print(np)"
   ]
  },
  {
   "cell_type": "code",
   "execution_count": 2,
   "metadata": {},
   "outputs": [],
   "source": [
    "np = Nanopub.fetch('http://purl.org/np/RA1q1I6-EtcuWMVsCZECCASXoiWt61VMOgDJ9JSCP4UGU')"
   ]
  },
  {
   "cell_type": "code",
   "execution_count": null,
   "metadata": {
    "collapsed": false,
    "jupyter": {
     "outputs_hidden": false
    },
    "tags": [
     "Injected by FAIR Workflows Widget"
    ]
   },
   "outputs": [],
   "source": [
    "np = Nanopub.fetch('http://rdf.disgenet.org/nanopublications.trig#NP733724.RAupV0RWkZMbQM9yXeHJaCkOrxhfrWmVJTSZtIexq6XCg')\n",
    "print(np)"
   ]
  },
  {
   "cell_type": "code",
   "execution_count": 3,
   "metadata": {},
   "outputs": [
    {
     "name": "stdout",
     "output_type": "stream",
     "text": [
      "Source URI = http://purl.org/np/RA1q1I6-EtcuWMVsCZECCASXoiWt61VMOgDJ9JSCP4UGU\n",
      "@prefix this: <http://purl.org/np/RA1q1I6-EtcuWMVsCZECCASXoiWt61VMOgDJ9JSCP4UGU> .\n",
      "@prefix sub: <http://purl.org/np/RA1q1I6-EtcuWMVsCZECCASXoiWt61VMOgDJ9JSCP4UGU#> .\n",
      "@prefix xsd: <http://www.w3.org/2001/XMLSchema#> .\n",
      "@prefix rdfs: <http://www.w3.org/2000/01/rdf-schema#> .\n",
      "@prefix dct: <http://purl.org/dc/terms/> .\n",
      "@prefix prov: <http://www.w3.org/ns/prov#> .\n",
      "@prefix np: <http://www.nanopub.org/nschema#> .\n",
      "@prefix orcid: <https://orcid.org/> .\n",
      "@prefix nt: <https://w3id.org/np/o/ntemplate/> .\n",
      "@prefix fabio: <http://purl.org/spar/fabio/> .\n",
      "@prefix pav: <http://purl.org/pav/> .\n",
      "@prefix npx: <http://purl.org/nanopub/x/> .\n",
      "\n",
      "sub:Head {\n",
      "  this: np:hasAssertion sub:assertion;\n",
      "    np:hasProvenance sub:provenance;\n",
      "    np:hasPublicationInfo sub:pubinfo;\n",
      "    a np:Nanopublication .\n",
      "}\n",
      "\n",
      "sub:assertion {\n",
      "  sub:local dct:creator \"American Foundation for Suicide Prevention\";\n",
      "    dct:date \"2018\";\n",
      "    dct:identifier <https://afsp.org/our-work/education/healthcare-professional-burnout-depression-suicide-prevention/>;\n",
      "    dct:title \"Facts about physician depression and suicide\";\n",
      "    dct:type fabio:WebSite;\n",
      "    pav:sourceAccessedOn \"10-12-2018\";\n",
      "    rdfs:comment \"No apparent claim of annual physician suicide rate\" .\n",
      "}\n",
      "\n",
      "sub:provenance {\n",
      "  sub:assertion prov:wasAttributedTo orcid:0000-0002-6007-4023 .\n",
      "}\n",
      "\n",
      "sub:pubinfo {\n",
      "  sub:sig npx:hasAlgorithm \"RSA\";\n",
      "    npx:hasPublicKey \"MIGfMA0GCSqGSIb3DQEBAQUAA4GNADCBiQKBgQCk/t11RFdsK8IUlbD7CznUrl1IYZtmFhTuGCtzFASFh3p0KsIDEAJtmYJ0CRWUlolT9XPht31Rh0iKGsJpr1PP1H/bcnV0ogspLq5JQj7LNoldB28Mz0/TDGN/YUYVvJjomkEEXHFnKR5vPRYb8gTMifFaTWYYv6JIYVPWJJ+4YwIDAQAB\";\n",
      "    npx:hasSignature \"J4O8ZuTPef91nZXfyQFgft0eMjIb3snwt0sV+PlDKXGxa9Ac3fzWYJEi08s44c9GpRdocCL7lqufHt4cuW30Xy0dBzQQtJKclFpnWjz1prjz9bKs/VdMlXxdrwBJjcwvPADPZA4wwkN8nBfEs5W3jPT6B75nQoPUKu/OoDqDuUI=\";\n",
      "    npx:hasSignatureTarget this: .\n",
      "  \n",
      "  this: dct:created \"2020-04-29T23:31:53.264+02:00\"^^xsd:dateTime;\n",
      "    dct:creator orcid:0000-0002-6007-4023;\n",
      "    nt:wasCreatedFromTemplate <http://purl.org/np/RAqWlNPJt3Eb4HkmPCpjaiRHGCzKIZag6cBNMkG8nxu6I> .\n",
      "}\n",
      "\n"
     ]
    }
   ],
   "source": [
    "print(np)"
   ]
  },
  {
   "cell_type": "code",
   "execution_count": 4,
   "metadata": {},
   "outputs": [
    {
     "name": "stdout",
     "output_type": "stream",
     "text": [
      "Published to http://purl.org/np/RAF4TCAZjIKrBVi-_4iQANKl_2tRJtPzGEjdeyDDoKr94\n"
     ]
    }
   ],
   "source": [
    "Nanopub.claim('Jupyter lab')"
   ]
  }
 ],
 "metadata": {
  "kernelspec": {
   "display_name": "Python 3",
   "language": "python",
   "name": "python3"
  },
  "language_info": {
   "codemirror_mode": {
    "name": "ipython",
    "version": 3
   },
   "file_extension": ".py",
   "mimetype": "text/x-python",
   "name": "python",
   "nbconvert_exporter": "python",
   "pygments_lexer": "ipython3",
   "version": "3.7.7"
  }
 },
 "nbformat": 4,
 "nbformat_minor": 4
}
