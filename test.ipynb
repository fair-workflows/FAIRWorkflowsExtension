{
 "cells": [
  {
   "cell_type": "code",
   "execution_count": null,
   "metadata": {},
   "outputs": [],
   "source": []
  },
  {
   "cell_type": "code",
   "execution_count": null,
   "metadata": {
    "collapsed": false,
    "jupyter": {
     "outputs_hidden": false
    },
    "nanopubURI": "",
    "tags": [
     "Injected by FAIR Workflows Widget"
    ]
   },
   "outputs": [],
   "source": [
    "from fairworkflows import manualstep"
   ]
  },
  {
   "cell_type": "code",
   "execution_count": null,
   "metadata": {
    "collapsed": false,
    "jupyter": {
     "outputs_hidden": false
    },
    "nanopubURI": "http://purl.org/np/RACLlhNijmCk4AX_2PuoBPHKfY1T6jieGaUPVFv-fWCAg",
    "tags": [
     "Injected by FAIR Workflows Widget"
    ]
   },
   "outputs": [],
   "source": [
    "#Preheat an oven to 350 degrees F (175 degrees C).\n",
    "manualstep('Preheat an oven to 350 degrees F (175 degrees C).', completed=False, byWhom='', remarks='')"
   ]
  },
  {
   "cell_type": "code",
   "execution_count": null,
   "metadata": {
    "collapsed": false,
    "jupyter": {
     "outputs_hidden": false
    },
    "nanopubURI": "http://purl.org/np/RA5D8NzM2OXPZAWNlADQ8hZdVu1k0HnmVmgl20apjhU8M",
    "tags": [
     "Injected by FAIR Workflows Widget"
    ]
   },
   "outputs": [],
   "source": [
    "#Arrange the chicken pieces in a single layer in a 9x13-inch baking dish. Season the chicken liberally with salt, pepper, and the paprika; set aside.\n",
    "manualstep('Arrange the chicken pieces in a single layer in a 9x13-inch baking dish. Season the chicken liberally with salt, pepper, and the paprika; set aside.', completed=False, byWhom='', remarks='')"
   ]
  },
  {
   "cell_type": "code",
   "execution_count": null,
   "metadata": {
    "collapsed": false,
    "jupyter": {
     "outputs_hidden": false
    },
    "nanopubURI": "http://purl.org/np/RANBLu3UN2ngnjY5Hzrn7S5GpqFdz8_BBy92bDlt991X4",
    "tags": [
     "Injected by FAIR Workflows Widget"
    ]
   },
   "outputs": [],
   "source": [
    "#Melt the butter in a skillet over medium heat. Add the apple and onion to the melted butter, season with the curry powder, and cook and stir until the apple and onion are tender, 7 to 10 minutes. Stir the mushroom soup and half-and-half into the mixture until completely combined; spoon over the chicken pieces.\n",
    "manualstep('Melt the butter in a skillet over medium heat. Add the apple and onion to the melted butter, season with the curry powder, and cook and stir until the apple and onion are tender, 7 to 10 minutes. Stir the mushroom soup and half-and-half into the mixture until completely combined; spoon over the chicken pieces.', completed=False, byWhom='', remarks='')"
   ]
  },
  {
   "cell_type": "code",
   "execution_count": null,
   "metadata": {
    "collapsed": false,
    "jupyter": {
     "outputs_hidden": false
    },
    "nanopubURI": "http://purl.org/np/RAOdxp6-MbmHF8kNcrcDpqvmIk_P2VIaNach_ngnDM4do",
    "tags": [
     "Injected by FAIR Workflows Widget"
    ]
   },
   "outputs": [],
   "source": [
    "#Bake in the preheated oven until no longer pink at the bone and the juices run clear, about 75 minutes.  An instant-read thermometer inserted into the thickest part of the thigh, near the bone should read 180 degrees F (82 degrees C).\n",
    "manualstep('Bake in the preheated oven until no longer pink at the bone and the juices run clear, about 75 minutes.  An instant-read thermometer inserted into the thickest part of the thigh, near the bone should read 180 degrees F (82 degrees C).', completed=False, byWhom='', remarks='')"
   ]
  },
  {
   "cell_type": "code",
   "execution_count": null,
   "metadata": {},
   "outputs": [],
   "source": []
  },
  {
   "cell_type": "code",
   "execution_count": 3,
   "metadata": {
    "collapsed": false,
    "jupyter": {
     "outputs_hidden": false
    },
    "nanopubURI": "",
    "tags": [
     "Injected by FAIR Workflows Widget"
    ]
   },
   "outputs": [],
   "source": [
    "from fairworkflows import manualstep"
   ]
  },
  {
   "cell_type": "code",
   "execution_count": 5,
   "metadata": {
    "collapsed": false,
    "jupyter": {
     "outputs_hidden": false
    },
    "nanopubURI": "http://purl.org/np/RACLlhNijmCk4AX_2PuoBPHKfY1T6jieGaUPVFv-fWCAg",
    "tags": [
     "Injected by FAIR Workflows Widget"
    ]
   },
   "outputs": [
    {
     "name": "stdout",
     "output_type": "stream",
     "text": [
      "Manual step marked as completed by Me  at 2020-08-13 15:54:18.677635\n",
      "The task description was:\n",
      " Preheat an oven to 350 degrees F (175 degrees C).\n",
      "Additional remarks provided:\n",
      " \n"
     ]
    }
   ],
   "source": [
    "#Preheat an oven to 350 degrees F (175 degrees C).\n",
    "manualstep('Preheat an oven to 350 degrees F (175 degrees C).', completed=True, byWhom='Me', remarks='')"
   ]
  },
  {
   "cell_type": "code",
   "execution_count": null,
   "metadata": {
    "collapsed": false,
    "jupyter": {
     "outputs_hidden": false
    },
    "nanopubURI": "http://purl.org/np/RA5D8NzM2OXPZAWNlADQ8hZdVu1k0HnmVmgl20apjhU8M",
    "tags": [
     "Injected by FAIR Workflows Widget"
    ]
   },
   "outputs": [],
   "source": [
    "#Arrange the chicken pieces in a single layer in a 9x13-inch baking dish. Season the chicken liberally with salt, pepper, and the paprika; set aside.\n",
    "manualstep('Arrange the chicken pieces in a single layer in a 9x13-inch baking dish. Season the chicken liberally with salt, pepper, and the paprika; set aside.', completed=False, byWhom='', remarks='')"
   ]
  },
  {
   "cell_type": "code",
   "execution_count": null,
   "metadata": {
    "collapsed": false,
    "jupyter": {
     "outputs_hidden": false
    },
    "nanopubURI": "http://purl.org/np/RAOdxp6-MbmHF8kNcrcDpqvmIk_P2VIaNach_ngnDM4do",
    "tags": [
     "Injected by FAIR Workflows Widget"
    ]
   },
   "outputs": [],
   "source": [
    "#Bake in the preheated oven until no longer pink at the bone and the juices run clear, about 75 minutes.  An instant-read thermometer inserted into the thickest part of the thigh, near the bone should read 180 degrees F (82 degrees C).\n",
    "manualstep('Bake in the preheated oven until no longer pink at the bone and the juices run clear, about 75 minutes.  An instant-read thermometer inserted into the thickest part of the thigh, near the bone should read 180 degrees F (82 degrees C).', completed=False, byWhom='', remarks='')"
   ]
  },
  {
   "cell_type": "code",
   "execution_count": null,
   "metadata": {
    "collapsed": false,
    "jupyter": {
     "outputs_hidden": false
    },
    "nanopubURI": "http://purl.org/np/RANBLu3UN2ngnjY5Hzrn7S5GpqFdz8_BBy92bDlt991X4",
    "tags": [
     "Injected by FAIR Workflows Widget"
    ]
   },
   "outputs": [],
   "source": [
    "#Melt the butter in a skillet over medium heat. Add the apple and onion to the melted butter, season with the curry powder, and cook and stir until the apple and onion are tender, 7 to 10 minutes. Stir the mushroom soup and half-and-half into the mixture until completely combined; spoon over the chicken pieces.\n",
    "manualstep('Melt the butter in a skillet over medium heat. Add the apple and onion to the melted butter, season with the curry powder, and cook and stir until the apple and onion are tender, 7 to 10 minutes. Stir the mushroom soup and half-and-half into the mixture until completely combined; spoon over the chicken pieces.', completed=False, byWhom='', remarks='')"
   ]
  },
  {
   "cell_type": "code",
   "execution_count": null,
   "metadata": {},
   "outputs": [],
   "source": []
  },
  {
   "cell_type": "code",
   "execution_count": null,
   "metadata": {},
   "outputs": [],
   "source": []
  },
  {
   "cell_type": "code",
   "execution_count": null,
   "metadata": {},
   "outputs": [],
   "source": []
  },
  {
   "cell_type": "code",
   "execution_count": null,
   "metadata": {},
   "outputs": [],
   "source": []
  },
  {
   "cell_type": "code",
   "execution_count": null,
   "metadata": {},
   "outputs": [],
   "source": []
  },
  {
   "cell_type": "code",
   "execution_count": null,
   "metadata": {},
   "outputs": [],
   "source": []
  },
  {
   "cell_type": "code",
   "execution_count": null,
   "metadata": {},
   "outputs": [],
   "source": []
  },
  {
   "cell_type": "code",
   "execution_count": null,
   "metadata": {},
   "outputs": [],
   "source": []
  },
  {
   "cell_type": "code",
   "execution_count": null,
   "metadata": {},
   "outputs": [],
   "source": []
  },
  {
   "cell_type": "code",
   "execution_count": 29,
   "metadata": {
    "collapsed": false,
    "jupyter": {
     "outputs_hidden": false
    },
    "tags": [
     "Injected by NanopubJL Widget"
    ]
   },
   "outputs": [
    {
     "name": "stdout",
     "output_type": "stream",
     "text": [
      "Source URI = http://purl.org/np/RApJG4fwj0szOMBMiYGmYvd5MCtRle6VbwkMJUb1SxxDM\n",
      "@prefix dct: <http://purl.org/dc/terms/> .\n",
      "@prefix icc: <https://w3id.org/fair/icc/terms/> .\n",
      "@prefix np: <http://www.nanopub.org/nschema#> .\n",
      "@prefix npx: <http://purl.org/nanopub/x/> .\n",
      "@prefix nt: <https://w3id.org/np/o/ntemplate/> .\n",
      "@prefix orcid: <https://orcid.org/> .\n",
      "@prefix prov: <http://www.w3.org/ns/prov#> .\n",
      "@prefix rdf: <http://www.w3.org/1999/02/22-rdf-syntax-ns#> .\n",
      "@prefix rdfs: <http://www.w3.org/2000/01/rdf-schema#> .\n",
      "@prefix sub: <http://purl.org/np/RApJG4fwj0szOMBMiYGmYvd5MCtRle6VbwkMJUb1SxxDM#> .\n",
      "@prefix this: <http://purl.org/np/RApJG4fwj0szOMBMiYGmYvd5MCtRle6VbwkMJUb1SxxDM> .\n",
      "@prefix xml: <http://www.w3.org/XML/1998/namespace> .\n",
      "@prefix xsd: <http://www.w3.org/2001/XMLSchema#> .\n",
      "\n",
      "sub:pubinfo {\n",
      "    sub:sig npx:hasAlgorithm \"RSA\" ;\n",
      "        npx:hasPublicKey \"MIGfMA0GCSqGSIb3DQEBAQUAA4GNADCBiQKBgQCwUtewGCpT5vIfXYE1bmf/Uqu1ojqnWdYxv+ySO80ul8Gu7m8KoyPAwuvaPj0lvPtHrg000qMmkxzKhYknEjq8v7EerxZNYp5B3/3+5ZpuWOYAs78UnQVjbHSmDdmryr4D4VvvNIiUmd0yxci47dTFUj4DvfHnGd6hVe5+goqdcwIDAQAB\" ;\n",
      "        npx:hasSignature \"qroJfvyeH6w/hH1CVYiOW/kJStTDPGb2pOZt2qWeBPaLx7F5/IJgOyxruKaH3V/vQj3gTzaysdfU1j8f2qbXkqjCOFN7l95Ka2yGYXZxq8Tp8yFn9ngjsX3ZewlOMqb+5LcJoZ8w7rQNKLslP0swMqGmveUiW0qKiti4DrwkkfI=\" ;\n",
      "        npx:hasSignatureTarget this: .\n",
      "\n",
      "    this: dct:created \"2020-06-16T10:40:52.255000+02:00\"^^xsd:dateTime ;\n",
      "        dct:creator <https://orcid.org/0000-0002-1267-0234> ;\n",
      "        npx:supersedes <http://purl.org/np/RAjyTYoK_1LO7cJUG6zjyPjt3IZzjmnlWp07Y_h7Hha3A> .\n",
      "}\n",
      "\n",
      "sub:Head {\n",
      "    this: a np:Nanopublication ;\n",
      "        np:hasAssertion sub:assertion ;\n",
      "        np:hasProvenance sub:provenance ;\n",
      "        np:hasPublicationInfo sub:pubinfo .\n",
      "}\n",
      "\n",
      "sub:provenance {\n",
      "    sub:assertion prov:wasAttributedTo <https://orcid.org/0000-0002-1267-0234> .\n",
      "}\n",
      "\n",
      "sub:assertion {\n",
      "    sub:assertion a nt:AssertionTemplate ;\n",
      "        rdfs:label \"Defining a FAIR IN community\" ;\n",
      "        nt:hasStatement sub:st0,\n",
      "            sub:st1,\n",
      "            sub:st2,\n",
      "            sub:st3 .\n",
      "\n",
      "    sub:comment a nt:LiteralPlaceholder ;\n",
      "        rdfs:label \"description of the community in one sentence\" .\n",
      "\n",
      "    sub:name a nt:LiteralPlaceholder ;\n",
      "        rdfs:label \"the name of your community\" .\n",
      "\n",
      "    sub:st0 a rdf:Statement ;\n",
      "        rdf:object icc:Community ;\n",
      "        rdf:predicate rdf:type ;\n",
      "        rdf:subject sub:community ;\n",
      "        nt:statementOrder 0 .\n",
      "\n",
      "    sub:st1 a rdf:Statement ;\n",
      "        rdf:object sub:name ;\n",
      "        rdf:predicate rdfs:label ;\n",
      "        rdf:subject sub:community ;\n",
      "        nt:statementOrder 1 .\n",
      "\n",
      "    sub:st2 a rdf:Statement ;\n",
      "        rdf:object sub:comment ;\n",
      "        rdf:predicate rdfs:comment ;\n",
      "        rdf:subject sub:community ;\n",
      "        nt:statementOrder 2 .\n",
      "\n",
      "    sub:st3 a rdf:Statement ;\n",
      "        rdf:object sub:website ;\n",
      "        rdf:predicate rdfs:seeAlso ;\n",
      "        rdf:subject sub:community ;\n",
      "        nt:statementOrder 3 .\n",
      "\n",
      "    sub:website a nt:UriPlaceholder ;\n",
      "        rdfs:label \"a link to the community's website\" .\n",
      "\n",
      "    rdf:type rdfs:label \"is a\" .\n",
      "\n",
      "    rdfs:comment rdfs:label \"has the description\" .\n",
      "\n",
      "    rdfs:label rdfs:label \"is called\" .\n",
      "\n",
      "    rdfs:seeAlso rdfs:label \"has the website\" .\n",
      "\n",
      "    icc:Community rdfs:label \"FAIR IN community\" .\n",
      "\n",
      "    sub:community a nt:IntroducedResource,\n",
      "            nt:LocalResource,\n",
      "            nt:UriPlaceholder ;\n",
      "        rdfs:label \"short name, used as URI suffix\" .\n",
      "}\n",
      "\n",
      "\n"
     ]
    }
   ],
   "source": [
    "from fairworkflows import Nanopub\n",
    "np = Nanopub.fetch('http://purl.org/np/RApJG4fwj0szOMBMiYGmYvd5MCtRle6VbwkMJUb1SxxDM')\n",
    "print(np)"
   ]
  },
  {
   "cell_type": "code",
   "execution_count": 28,
   "metadata": {},
   "outputs": [
    {
     "name": "stdout",
     "output_type": "stream",
     "text": [
      "{'pubinfo': <Graph identifier=http://purl.org/np/RApJG4fwj0szOMBMiYGmYvd5MCtRle6VbwkMJUb1SxxDM#pubinfo (<class 'rdflib.graph.Graph'>)>, 'Head': <Graph identifier=http://purl.org/np/RApJG4fwj0szOMBMiYGmYvd5MCtRle6VbwkMJUb1SxxDM#Head (<class 'rdflib.graph.Graph'>)>, 'provenance': <Graph identifier=http://purl.org/np/RApJG4fwj0szOMBMiYGmYvd5MCtRle6VbwkMJUb1SxxDM#provenance (<class 'rdflib.graph.Graph'>)>, 'assertion': <Graph identifier=http://purl.org/np/RApJG4fwj0szOMBMiYGmYvd5MCtRle6VbwkMJUb1SxxDM#assertion (<class 'rdflib.graph.Graph'>)>}\n"
     ]
    }
   ],
   "source": [
    "from urllib.parse import urldefrag\n",
    "graphs = {}\n",
    "for c in np.rdf.contexts():\n",
    "    graphid = urldefrag(c.identifier).fragment\n",
    "    graphs[graphid] = c\n",
    "print(graphs)\n",
    "    "
   ]
  },
  {
   "cell_type": "code",
   "execution_count": null,
   "metadata": {},
   "outputs": [],
   "source": []
  }
 ],
 "metadata": {
  "kernelspec": {
   "display_name": "Python 3",
   "language": "python",
   "name": "python3"
  },
  "language_info": {
   "codemirror_mode": {
    "name": "ipython",
    "version": 3
   },
   "file_extension": ".py",
   "mimetype": "text/x-python",
   "name": "python",
   "nbconvert_exporter": "python",
   "pygments_lexer": "ipython3",
   "version": "3.8.5"
  }
 },
 "nbformat": 4,
 "nbformat_minor": 4
}
