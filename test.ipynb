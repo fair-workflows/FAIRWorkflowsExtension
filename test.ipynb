{
 "cells": [
  {
   "cell_type": "code",
   "execution_count": null,
   "metadata": {},
   "outputs": [],
   "source": []
  },
  {
   "cell_type": "code",
   "execution_count": null,
   "metadata": {
    "collapsed": false,
    "jupyter": {
     "outputs_hidden": false
    },
    "nanopubURI": "",
    "tags": [
     "Injected by FAIR Workflows Widget"
    ]
   },
   "outputs": [],
   "source": [
    "from fairworkflows import manualstep"
   ]
  },
  {
   "cell_type": "code",
   "execution_count": null,
   "metadata": {
    "collapsed": false,
    "jupyter": {
     "outputs_hidden": false
    },
    "nanopubURI": "http://purl.org/np/RACLlhNijmCk4AX_2PuoBPHKfY1T6jieGaUPVFv-fWCAg",
    "tags": [
     "Injected by FAIR Workflows Widget"
    ]
   },
   "outputs": [],
   "source": [
    "#Preheat an oven to 350 degrees F (175 degrees C).\n",
    "manualstep('Preheat an oven to 350 degrees F (175 degrees C).', completed=False, byWhom='', remarks='')"
   ]
  },
  {
   "cell_type": "code",
   "execution_count": null,
   "metadata": {
    "collapsed": false,
    "jupyter": {
     "outputs_hidden": false
    },
    "nanopubURI": "http://purl.org/np/RANBLu3UN2ngnjY5Hzrn7S5GpqFdz8_BBy92bDlt991X4",
    "tags": [
     "Injected by FAIR Workflows Widget"
    ]
   },
   "outputs": [],
   "source": [
    "#Melt the butter in a skillet over medium heat. Add the apple and onion to the melted butter, season with the curry powder, and cook and stir until the apple and onion are tender, 7 to 10 minutes. Stir the mushroom soup and half-and-half into the mixture until completely combined; spoon over the chicken pieces.\n",
    "manualstep('Melt the butter in a skillet over medium heat. Add the apple and onion to the melted butter, season with the curry powder, and cook and stir until the apple and onion are tender, 7 to 10 minutes. Stir the mushroom soup and half-and-half into the mixture until completely combined; spoon over the chicken pieces.', completed=False, byWhom='', remarks='')"
   ]
  },
  {
   "cell_type": "code",
   "execution_count": null,
   "metadata": {
    "collapsed": false,
    "jupyter": {
     "outputs_hidden": false
    },
    "nanopubURI": "http://purl.org/np/RAOdxp6-MbmHF8kNcrcDpqvmIk_P2VIaNach_ngnDM4do",
    "tags": [
     "Injected by FAIR Workflows Widget"
    ]
   },
   "outputs": [],
   "source": [
    "# Some change\n",
    "manualstep('Bake in the preheated oven until no longer pink at the bone and the juices run clear, about 75 minutes.  An instant-read thermometer inserted into the thickest part of the thigh, near the bone should read 180 degrees F (82 degrees C).', completed=False, byWhom='', remarks='')"
   ]
  },
  {
   "cell_type": "code",
   "execution_count": null,
   "metadata": {
    "collapsed": false,
    "jupyter": {
     "outputs_hidden": false
    },
    "nanopubURI": "http://purl.org/np/RA5D8NzM2OXPZAWNlADQ8hZdVu1k0HnmVmgl20apjhU8M",
    "tags": [
     "Injected by FAIR Workflows Widget"
    ]
   },
   "outputs": [],
   "source": [
    "#Arrange the chicken pieces in a single layer in a 9x13-inch baking dish. Season the chicken liberally with salt, pepper, and the paprika; set aside.\n",
    "manualstep('Arrange the chicken pieces in a single layer in a 9x13-inch baking dish. Season the chicken liberally with salt, pepper, and the paprika; set aside.', completed=False, byWhom='', remarks='')"
   ]
  }
 ],
 "metadata": {
  "kernelspec": {
   "display_name": "Python 3",
   "language": "python",
   "name": "python3"
  },
  "language_info": {
   "codemirror_mode": {
    "name": "ipython",
    "version": 3
   },
   "file_extension": ".py",
   "mimetype": "text/x-python",
   "name": "python",
   "nbconvert_exporter": "python",
   "pygments_lexer": "ipython3",
   "version": "3.7.7"
  }
 },
 "nbformat": 4,
 "nbformat_minor": 4
}
